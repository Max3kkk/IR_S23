{
 "cells": [
  {
   "attachments": {},
   "cell_type": "markdown",
   "metadata": {},
   "source": [
    "#### Mikhail Fedorov B20-CS-01\n",
    "Work is done with the help of the following sources:\n",
    "- Labs from the course\n",
    "- Stackoverflow\n",
    "- Copilot"
   ]
  },
  {
   "cell_type": "markdown",
   "metadata": {},
   "source": [
    "# 1. Crawler\n",
    "\n",
    "## 1.0. Related example\n",
    "\n",
    "This code shows `wget`-like tool written in python. Run it from console (`python wget.py`), make it work. Check the code, reuse, and modify for your needs."
   ]
  },
  {
   "cell_type": "code",
   "execution_count": null,
   "metadata": {},
   "outputs": [],
   "source": [
    "!pip install requests\n",
    "!pip install beautifulsoup4"
   ]
  },
  {
   "cell_type": "code",
   "execution_count": 2,
   "metadata": {},
   "outputs": [
    {
     "name": "stderr",
     "output_type": "stream",
     "text": [
      "usage: ipykernel_launcher.py [-h] [-O FILENAME] url\n",
      "ipykernel_launcher.py: error: the following arguments are required: url\n"
     ]
    },
    {
     "ename": "SystemExit",
     "evalue": "2",
     "output_type": "error",
     "traceback": [
      "An exception has occurred, use %tb to see the full traceback.\n",
      "\u001b[0;31mSystemExit\u001b[0m\u001b[0;31m:\u001b[0m 2\n"
     ]
    },
    {
     "name": "stderr",
     "output_type": "stream",
     "text": [
      "/home/max/uni/.venv/lib/python3.11/site-packages/IPython/core/interactiveshell.py:3468: UserWarning: To exit: use 'exit', 'quit', or Ctrl-D.\n",
      "  warn(\"To exit: use 'exit', 'quit', or Ctrl-D.\", stacklevel=1)\n"
     ]
    }
   ],
   "source": [
    "import argparse\n",
    "import os\n",
    "import re\n",
    "import requests\n",
    "\n",
    "\n",
    "def wget(url, filename):\n",
    "    # allow redirects - in case file is relocated\n",
    "    resp = requests.get(url, allow_redirects=True)\n",
    "    # this can also be 2xx, but for simplicity now we stick to 200\n",
    "    # you can also check for `resp.ok`\n",
    "    # check for resp.ok\n",
    "    if not resp.ok:\n",
    "        print(resp.status_code, resp.reason, 'for', url)\n",
    "        return\n",
    "    \n",
    "    # just to be cool and print something\n",
    "    print(*[f\"{key}: {value}\" for key, value in resp.headers.items()], sep='\\n')\n",
    "    print()\n",
    "    \n",
    "    # try to extract filename from url\n",
    "    if filename is None:\n",
    "        # start with http*, ends if ? or # appears (or none of)\n",
    "        m = re.search(\"^http.*/([^/\\?#]*)[\\?#]?\", url)\n",
    "        filename = m.group(1)\n",
    "        if not filename:\n",
    "            raise NameError(f\"Filename neither given, nor found for {url}\")\n",
    "\n",
    "    # what will you do in case 2 websites store file with the same name?\n",
    "    if os.path.exists(filename):\n",
    "        raise OSError(f\"File {filename} already exists\")\n",
    "    \n",
    "    with open(filename, 'wb') as f:\n",
    "        f.write(resp.content)\n",
    "        print(f\"File saved as {filename}\")\n",
    "\n",
    "\n",
    "if __name__ == \"__main__\":\n",
    "    parser = argparse.ArgumentParser(description='download file.')\n",
    "    parser.add_argument(\"-O\", type=str, default=None, dest='filename', help=\"output file name. Default -- taken from resource\")\n",
    "    parser.add_argument(\"url\", type=str, default=None, help=\"Provide URL here\")\n",
    "    args = parser.parse_args()\n",
    "    wget(args.url, args.filename)"
   ]
  },
  {
   "cell_type": "markdown",
   "metadata": {},
   "source": [
    "### 1.0.1. How to parse a page?\n",
    "\n",
    "If you build a crawler, you might follow one of the approaches:\n",
    "1. search for URLs in the page, assuming this is just a text.\n",
    "2. search for URLs in the places where URLs should appear: `<a href=..`, `<img src=...`, `<iframe src=...` and so on.\n",
    "\n",
    "To follow the first approach you can rely on some good regular expression. [Like this](https://stackoverflow.com/a/3809435).\n",
    "\n",
    "To follow the second approach just read one of these: [short answer](https://stackoverflow.com/questions/1080411/retrieve-links-from-web-page-using-python-and-beautifulsoup) or [exhaustive explanation](https://hackersandslackers.com/scraping-urls-with-beautifulsoup/)."
   ]
  },
  {
   "cell_type": "markdown",
   "metadata": {},
   "source": [
    "## 1.1. [15] Download and persist #\n",
    "Please complete a code for `load()`, `download()` and `persist()` methods of `Document` class. What they do:\n",
    "- for a given URL `download()` method downloads binary data and stores in `self.content`. It returns `True` for success, else `False`.\n",
    "- `persist()` method saves `self.content` somewhere in file system. We do it to avoid multiple downloads (for caching in other words).\n",
    "- `load()` method loads data from hard drive. Returns `True` for success.\n",
    "\n",
    "Tests checks that your code somehow works.\n",
    "\n",
    "**NB Passing the test doesn't mean you correctly completed the task.** These are **criteria, which have to be fullfilled**:\n",
    "1. URL is a unique identifier (as it is a subset of URI). Thus, documents with different URLs should be stored in different files. Typical errors: documents from the same domain are overwritten to the same file, URLs with similar endings are downloaded to the same file, etc.\n",
    "2. The document can be not only a text file, but also a binary. Pay attention that if you download `mp3` file, it still can be played. Hint: don't hurry to convert everything to text."
   ]
  },
  {
   "cell_type": "code",
   "execution_count": 7,
   "metadata": {},
   "outputs": [],
   "source": [
    "import requests\n",
    "from urllib.parse import quote\n",
    "import os\n",
    "\n",
    "class Document:\n",
    "    \n",
    "    def __init__(self, url, index=None):\n",
    "        self.url = url\n",
    "        self.content = None\n",
    "        self.index = index\n",
    "        self.get()\n",
    "        \n",
    "    def get(self):\n",
    "        if not self.load():\n",
    "            if not self.download():\n",
    "                raise FileNotFoundError(self.url)\n",
    "            else:\n",
    "                self.persist()\n",
    "    \n",
    "    def download(self):\n",
    "        #TODO downloads binary data from self.url and stores in `self.content`. It returns `True` for success, else `False`\n",
    "        resp = requests.get(self.url, allow_redirects=True)\n",
    "        if not resp.ok:\n",
    "            # Can be used for debugging\n",
    "            # print(resp.status_code, resp.reason, 'for', self.url)\n",
    "            return False\n",
    "        self.content = resp.content\n",
    "        return True\n",
    "    \n",
    "    def persist(self):\n",
    "        name = quote(self.url, safe='')\n",
    "        if self.index:\n",
    "            name = str(self.index) + quote(self.url, safe='')\n",
    "        #TODO write document content to hard drive\n",
    "        with open(name, 'wb') as f:\n",
    "            f.write(self.content)\n",
    "            # Can be used for debugging\n",
    "            # print(f\"File for {self.url} saved as {quote(self.url, safe='')} on disk\")\n",
    "            \n",
    "    def load(self):\n",
    "        #TODO load content from hard drive, store it in self.content and return True in case of success\n",
    "        name = quote(self.url, safe='')\n",
    "        if self.index:\n",
    "            name = str(self.index) + quote(self.url, safe='')\n",
    "        if not os.path.exists(name):\n",
    "            # Can be used for debugging\n",
    "            # print(f\"File for {self.url} does not exist on disk\")\n",
    "            return False\n",
    "        with open(name, 'rb') as f:\n",
    "            self.content = f.read()\n",
    "            return True"
   ]
  },
  {
   "cell_type": "markdown",
   "metadata": {},
   "source": [
    "### 1.1.1. Tests ###"
   ]
  },
  {
   "cell_type": "code",
   "execution_count": null,
   "metadata": {},
   "outputs": [],
   "source": [
    "doc = Document('http://sprotasov.ru/data/iu.txt')\n",
    "# Check for mp3 file\n",
    "# doc = Document('https://www.soundhelix.com/examples/mp3/SoundHelix-Song-1.mp3')\n",
    "\n",
    "doc.get()\n",
    "assert doc.content, \"Document download failed\"\n",
    "# check mp3 file content\n",
    "# assert doc.content[:3] == b'ID3', \"Document content error\"\n",
    "assert \"Code snippets, demos and labs for the course\" in str(doc.content), \"Document content error\"\n",
    "\n",
    "doc.get()\n",
    "assert doc.load(), \"Load should return true for saved document\"\n",
    "# assert doc.content[:3] == b'ID3', \"Document load from disk error\"\n",
    "assert \"Code snippets, demos and labs for the course\" in str(doc.content), \"Document load from disk error\""
   ]
  },
  {
   "cell_type": "code",
   "execution_count": null,
   "metadata": {},
   "outputs": [],
   "source": [
    "# links = ['https://ke-images-dev.servicecdn.ru/cd7sh4oduq1qjncapc60/360_720x960.jpg', 'https://ke-images-dev.servicecdn.ru/cd7sh4oduq1qjncapbvg/360_720x960.jpg', 'https://ke-images-dev.servicecdn.ru/cd7sh4gduq1qjncapbp0/360_720x960.jpg', 'https://ke-images-dev.servicecdn.ru/cd7sh4oduq1qjncapc3g/360_720x960.jpg', 'https://ke-images-dev.servicecdn.ru/cd7sh4gduq1qjncapbo0/360_720x960.jpg', 'https://ke-images-dev.servicecdn.ru/cd7sh4gduq1qjncapbq0/360_720x960.jpg', 'https://ke-images-dev.servicecdn.ru/cd7sh4oduq1qjncapc20/360_720x960.jpg', 'https://ke-images-dev.servicecdn.ru/cd7sh4gduq1qjncapbtg/360_720x960.jpg', 'https://ke-images-dev.servicecdn.ru/cd7sh4gduq1qjncapbpg/360_720x960.jpg', 'https://ke-images-dev.servicecdn.ru/cd7sh4gduq1qjncapbog/360_720x960.jpg', 'https://ke-images-dev.servicecdn.ru/cd7sh4oduq1qjncapc00/360_720x960.jpg', 'https://ke-images-dev.servicecdn.ru/cd7sh4gduq1qjncapblg/360_720x960.jpg', 'https://ke-images-dev.servicecdn.ru/cd7sh4oduq1qjncapbv0/360_720x960.jpg', 'https://ke-images-dev.servicecdn.ru/cd7sh4gduq1qjncapbqg/360_720x960.jpg', 'https://ke-images-dev.servicecdn.ru/cd7sh4oduq1qjncapc40/360_720x960.jpg', 'https://ke-images-dev.servicecdn.ru/cd7sh4oduq1qjncapc2g/360_720x960.jpg', 'https://ke-images-dev.servicecdn.ru/cd7sh4oduq1qjncapc50/360_720x960.jpg', 'https://ke-images-dev.servicecdn.ru/cd7sh4gduq1qjncapbm0/360_720x960.jpg', 'https://ke-images-dev.servicecdn.ru/cd7sh4gduq1qjncapbng/360_720x960.jpg', 'https://ke-images-dev.servicecdn.ru/cd7sh4gduq1qjncapbrg/360_720x960.jpg', 'https://ke-images-dev.servicecdn.ru/cd7sh4gduq1qjncapbt0/360_720x960.jpg', 'https://ke-images-dev.servicecdn.ru/cd7sh4gduq1qjncapbmg/360_720x960.jpg', 'https://ke-images-dev.servicecdn.ru/cd7sh4oduq1qjncapc10/360_720x960.jpg', 'https://ke-images-dev.servicecdn.ru/cd7sh4gduq1qjncapbn0/360_720x960.jpg', 'https://ke-images-dev.servicecdn.ru/cd7sh4oduq1qjncapc5g/360_720x960.jpg', 'https://ke-images-dev.servicecdn.ru/cd7sh4gduq1qjncapbu0/360_720x960.jpg', 'https://ke-images-dev.servicecdn.ru/cd7sh4oduq1qjncapc6g/360_720x960.jpg', 'https://ke-images-dev.servicecdn.ru/cd7sh4oduq1qjncapc1g/360_720x960.jpg', 'https://ke-images-dev.servicecdn.ru/cd7sh4gduq1qjncapbs0/360_720x960.jpg', 'https://ke-images-dev.servicecdn.ru/cd7sh4oduq1qjncapc70/360_720x960.jpg', 'https://ke-images-dev.servicecdn.ru/cd7sh4oduq1qjncapc4g/360_720x960.jpg', 'https://ke-images-dev.servicecdn.ru/cd7sh4oduq1qjncapc0g/360_720x960.jpg', 'https://ke-images-dev.servicecdn.ru/cd7sh4gduq1qjncapbsg/360_720x960.jpg', 'https://ke-images-dev.servicecdn.ru/cd7sh4oduq1qjncapc30/360_720x960.jpg', 'https://ke-images-dev.servicecdn.ru/cd7sh4gduq1qjncapbug/360_720x960.jpg', 'https://ke-images-dev.servicecdn.ru/cd7sh4gduq1qjncapbr0/360_720x960.jpg']\n",
    "\n",
    "# docs = [Document(link) for link in links]\n",
    "# [doc.persist() for doc in docs]"
   ]
  },
  {
   "cell_type": "markdown",
   "metadata": {},
   "source": [
    "## 1.2. [10] Parse HTML\n",
    "`BeautifulSoap` library is a de facto standard to parse XML and HTML documents in python. Use it to complete `parse()` method that extracts document contents. You should initialize:\n",
    "1. `self.anchors` list of tuples `('text', 'url')` met in a document. Be aware, there exist relative links (e.g. `../content/pic.jpg`). Use `urllib.parse.urljoin()` to fix this issue.\n",
    "2. `self.images` list of images met in a document. Again, links can be relative to current page.\n",
    "3. `self.text` should keep plain text of the document without scripts, tags, comments and so on. You can refer to [this stackoverflow answer](https://stackoverflow.com/a/1983219) for details.\n",
    "\n",
    "**NB All these 3 criteria must be fulfilled to get full point for the task.**"
   ]
  },
  {
   "cell_type": "code",
   "execution_count": 8,
   "metadata": {},
   "outputs": [],
   "source": [
    "from bs4 import BeautifulSoup\n",
    "from bs4.element import Comment\n",
    "import urllib.parse\n",
    "\n",
    "\n",
    "class HtmlDocument(Document):\n",
    "    def __init__(self, url, index=None):\n",
    "        super().__init__(url, index)\n",
    "        self.url = url\n",
    "        self.anchors = []\n",
    "        self.images = []\n",
    "        self.text = \"\"\n",
    "\n",
    "    def tag_visible(self, element):\n",
    "        if element.parent.name in ['style', 'script', 'head', 'title', 'meta', '[document]']:\n",
    "            return False\n",
    "        if isinstance(element, Comment):\n",
    "            return False\n",
    "        return True\n",
    "\n",
    "\n",
    "    def text_from_html(self):\n",
    "        soup = BeautifulSoup(self.content, 'html.parser')\n",
    "        texts = soup.findAll(string=True)\n",
    "        visible_texts = filter(self.tag_visible, texts)  \n",
    "        return u\" \".join(t.strip() for t in visible_texts)\n",
    "\n",
    "    def extract_images(self):\n",
    "        #TODO extract images from the document\n",
    "        soup = BeautifulSoup(self.content, 'html.parser')\n",
    "        images = soup.findAll('img')\n",
    "        for image in images:\n",
    "            self.images.append(urllib.parse.urljoin(self.url, image['src']))\n",
    "        return self.images\n",
    "\n",
    "    def extract_anchors(self):\n",
    "        # TODO extract links from the document in the form of (text, url)\n",
    "        soup = BeautifulSoup(self.content, 'html.parser')\n",
    "        anchors = soup.findAll('a')\n",
    "        for anchor in anchors:\n",
    "            try:\n",
    "                self.anchors.append((anchor.text, urllib.parse.urljoin(self.url, anchor['href'])))\n",
    "            except KeyError:\n",
    "                pass\n",
    "        return self.anchors\n",
    "\n",
    "    \n",
    "    def parse(self):\n",
    "        #TODO extract plain text, images and links from the document\n",
    "        self.anchors = self.extract_anchors()\n",
    "        self.images = self.extract_images()\n",
    "        self.text = self.text_from_html()"
   ]
  },
  {
   "cell_type": "markdown",
   "metadata": {},
   "source": [
    "### 1.2.1. Tests"
   ]
  },
  {
   "cell_type": "code",
   "execution_count": null,
   "metadata": {},
   "outputs": [],
   "source": [
    "doc = HtmlDocument(\"http://sprotasov.ru\")\n",
    "doc.get()\n",
    "doc.parse()\n",
    "\n",
    "assert \"just few links\" in doc.text, \"Error parsing text\"\n",
    "assert \"http://sprotasov.ru/images/gb.svg\" in doc.images, \"Error parsing images\"\n",
    "assert any(p[1] == \"https://twitter.com/07C3\" for p in doc.anchors), \"Error parsing links\""
   ]
  },
  {
   "cell_type": "code",
   "execution_count": 9,
   "metadata": {},
   "outputs": [],
   "source": [
    "links = ['https://ke-images-dev.servicecdn.ru/cd7rp2oduq1qjncapa60/360_720x960.jpg', 'https://ke-images-dev.servicecdn.ru/cd7rp2oduq1qjncapa6g/360_720x960.jpg', 'https://ke-images-dev.servicecdn.ru/cd7rp2oduq1qjncapa70/360_720x960.jpg', 'https://ke-images-dev.servicecdn.ru/cd7rp2oduq1qjncapa7g/360_720x960.jpg', 'https://ke-images-dev.servicecdn.ru/cd7rp2oduq1qjncapa80/360_720x960.jpg', 'https://ke-images-dev.servicecdn.ru/cd7rp2oduq1qjncapa8g/360_720x960.jpg', 'https://ke-images-dev.servicecdn.ru/cd7rp2oduq1qjncapa90/360_720x960.jpg', 'https://ke-images-dev.servicecdn.ru/cd7rp30duq1qjncapa9g/360_720x960.jpg', 'https://ke-images-dev.servicecdn.ru/cd7rp30duq1qjncapaa0/360_720x960.jpg', 'https://ke-images-dev.servicecdn.ru/cd7rp30duq1qjncapaag/360_720x960.jpg', 'https://ke-images-dev.servicecdn.ru/cd7rp30duq1qjncapab0/360_720x960.jpg', 'https://ke-images-dev.servicecdn.ru/cd7rp30duq1qjncapabg/360_720x960.jpg', 'https://ke-images-dev.servicecdn.ru/cd7rp30duq1qjncapac0/360_720x960.jpg', 'https://ke-images-dev.servicecdn.ru/cd7rp30duq1qjncapacg/360_720x960.jpg', 'https://ke-images-dev.servicecdn.ru/cd7rp30duq1qjncapad0/360_720x960.jpg', 'https://ke-images-dev.servicecdn.ru/cd7rp30duq1qjncapadg/360_720x960.jpg', 'https://ke-images-dev.servicecdn.ru/cd7rp30duq1qjncapae0/360_720x960.jpg', 'https://ke-images-dev.servicecdn.ru/cd7rp30duq1qjncapaeg/360_720x960.jpg', 'https://ke-images-dev.servicecdn.ru/cd7rp30duq1qjncapaf0/360_720x960.jpg', 'https://ke-images-dev.servicecdn.ru/cd7rp30duq1qjncapafg/360_720x960.jpg', 'https://ke-images-dev.servicecdn.ru/cd7rp30duq1qjncapag0/360_720x960.jpg', 'https://ke-images-dev.servicecdn.ru/cd7rp30duq1qjncapagg/360_720x960.jpg', 'https://ke-images-dev.servicecdn.ru/cd7rp30duq1qjncapah0/360_720x960.jpg', 'https://ke-images-dev.servicecdn.ru/cd7rp30duq1qjncapahg/360_720x960.jpg', 'https://ke-images-dev.servicecdn.ru/cd7rp30duq1qjncapai0/360_720x960.jpg', 'https://ke-images-dev.servicecdn.ru/cd7rp30duq1qjncapaig/360_720x960.jpg', 'https://ke-images-dev.servicecdn.ru/cd7rp38duq1qjncapaj0/360_720x960.jpg', 'https://ke-images-dev.servicecdn.ru/cd7rp38duq1qjncapajg/360_720x960.jpg', 'https://ke-images-dev.servicecdn.ru/cd7rp38duq1qjncapak0/360_720x960.jpg', 'https://ke-images-dev.servicecdn.ru/cd7rp38duq1qjncapakg/360_720x960.jpg', 'https://ke-images-dev.servicecdn.ru/cd7rp38duq1qjncapal0/360_720x960.jpg', 'https://ke-images-dev.servicecdn.ru/cd7rp38duq1qjncapalg/360_720x960.jpg', 'https://ke-images-dev.servicecdn.ru/cd7rp38duq1qjncapam0/360_720x960.jpg', 'https://ke-images-dev.servicecdn.ru/cd7rp38duq1qjncapamg/360_720x960.jpg', 'https://ke-images-dev.servicecdn.ru/cd7rp38duq1qjncapan0/360_720x960.jpg', 'https://ke-images-dev.servicecdn.ru/cd7rp38duq1qjncapang/360_720x960.jpg']\n",
    "\n",
    "images = [HtmlDocument(link, index) for index, link in enumerate(links)]\n",
    "# print([image.content for image in images])\n"
   ]
  },
  {
   "cell_type": "markdown",
   "metadata": {},
   "source": [
    "## 1.3. [10] Document analysis ##\n",
    "Complete the code for `HtmlDocumentTextData` class. Implement word and sentence splitting (use any method you can propose). \n",
    "\n",
    "**Criteria to succeed in the task**: \n",
    "1. Your `get_word_stats()` method should return `Counter` object.\n",
    "2. Don't forget to lowercase your words for counting.\n",
    "3. Sentences should be obtained from inside `<body>` tag only."
   ]
  },
  {
   "cell_type": "code",
   "execution_count": null,
   "metadata": {},
   "outputs": [],
   "source": [
    "from collections import Counter\n",
    "import nltk\n",
    "\n",
    "class HtmlDocumentTextData:\n",
    "    \n",
    "    def __init__(self, url):\n",
    "        self.doc = HtmlDocument(url)\n",
    "        self.doc.get()\n",
    "        self.doc.parse()\n",
    "    \n",
    "    def get_sentences(self):\n",
    "        #TODO implement sentence parser\n",
    "        soup = BeautifulSoup(self.doc.content, 'html.parser')\n",
    "        body = soup.find('body')\n",
    "        sentences = nltk.sent_tokenize(body.text, language='russian')\n",
    "        return sentences\n",
    "\n",
    "    def get_word_stats(self):\n",
    "        #TODO return Counter object of the document, containing mapping {`word` -> count_in_doc}\n",
    "        # Don't forget to lowercase your words for counting using nltk.word_tokenize\n",
    "        text = self.doc.text\n",
    "        # in lower case\n",
    "        words = nltk.word_tokenize(text.lower(), language='russian')\n",
    "        # remove punctuation\n",
    "        words = [word for word in words if word.isalpha()]\n",
    "        # convert to lowercase\n",
    "        return Counter(words)"
   ]
  },
  {
   "cell_type": "markdown",
   "metadata": {},
   "source": [
    "### 1.3.1. Tests ###"
   ]
  },
  {
   "cell_type": "code",
   "execution_count": null,
   "metadata": {},
   "outputs": [],
   "source": [
    "doc = HtmlDocumentTextData(\"https://innopolis.university/\")\n",
    "\n",
    "print(doc.get_word_stats().most_common(10))\n",
    "assert [x for x in doc.get_word_stats().most_common(10) if x[0] == 'иннополис'], 'иннополис should be among most common'"
   ]
  },
  {
   "cell_type": "markdown",
   "metadata": {},
   "source": [
    "## 1.4. [15] Crawling ##\n",
    "\n",
    "Method `crawl_generator()` is given starting url (`source`) and max depth of search. It should return a **generator** of `HtmlDocumentTextData` objects (return a document as soon as it is downloaded and parsed). You can benefit from `yield obj_name` python construction. Use `HtmlDocumentTextData.anchors` field to go deeper."
   ]
  },
  {
   "cell_type": "code",
   "execution_count": null,
   "metadata": {},
   "outputs": [],
   "source": [
    "from queue import Queue\n",
    "\n",
    "class Crawler:\n",
    "    \n",
    "    def crawl_generator(self, source, depth=1):\n",
    "        #TODO return real crawling results. Don't forget to process failures, \n",
    "        # exceptions, 3**, 4** codes\n",
    "        q = Queue()\n",
    "        q.put([source, 1])\n",
    "        visited = set()\n",
    "        while not q.empty():\n",
    "            url, d = q.get()\n",
    "            if url in visited or d > depth:\n",
    "                continue\n",
    "            visited.add(url)\n",
    "            try:\n",
    "                doc_data = HtmlDocumentTextData(url)\n",
    "                yield doc_data\n",
    "                if doc_data.doc.anchors:\n",
    "                    for anchor in doc_data.doc.anchors:\n",
    "                        q.put([anchor[1], d + 1])\n",
    "            except FileNotFoundError:\n",
    "                print(f\"File for {url} does not exist on disk\")\n",
    "            except Exception as e:\n",
    "                print(f\"Error {e} for {url}\")"
   ]
  },
  {
   "cell_type": "markdown",
   "metadata": {},
   "source": [
    "### 1.4.1. Tests ###"
   ]
  },
  {
   "cell_type": "code",
   "execution_count": null,
   "metadata": {},
   "outputs": [],
   "source": [
    "crawler = Crawler()\n",
    "counter = Counter()\n",
    "\n",
    "for c in crawler.crawl_generator(\"https://innopolis.university/en/\", 2):\n",
    "    print(c.doc.url)\n",
    "    if c.doc.url[-4:] in ('.pdf', '.mp3', '.avi', '.mp4', '.txt'):\n",
    "        print(\"Skipping\", c.doc.url)\n",
    "        continue\n",
    "    counter.update(c.get_word_stats())\n",
    "    print(len(counter), \"distinct word(s) so far\")\n",
    "    \n",
    "print(\"Done\")\n",
    "\n",
    "print(counter.most_common(20))\n",
    "assert [x for x in counter.most_common(20) if x[0] == 'innopolis'], 'innopolis sould be among most common'"
   ]
  }
 ],
 "metadata": {
  "kernelspec": {
   "display_name": ".venv",
   "language": "python",
   "name": "python3"
  },
  "language_info": {
   "codemirror_mode": {
    "name": "ipython",
    "version": 3
   },
   "file_extension": ".py",
   "mimetype": "text/x-python",
   "name": "python",
   "nbconvert_exporter": "python",
   "pygments_lexer": "ipython3",
   "version": "3.11.1"
  },
  "vscode": {
   "interpreter": {
    "hash": "bdc2b80b9a917b903aaed923ba52548d63cc38c97b691f15be45d694c927d47e"
   }
  }
 },
 "nbformat": 4,
 "nbformat_minor": 4
}
